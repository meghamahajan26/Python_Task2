{
 "cells": [
  {
   "cell_type": "markdown",
   "id": "3f48bbf1",
   "metadata": {},
   "source": [
    "# capitalize() Method"
   ]
  },
  {
   "cell_type": "markdown",
   "id": "1b357019",
   "metadata": {},
   "source": [
    "The capitalize() method returns a string where the first character is upper case, and the rest is lower case.\n",
    "\n"
   ]
  },
  {
   "cell_type": "code",
   "execution_count": 2,
   "id": "9e3446f5",
   "metadata": {},
   "outputs": [
    {
     "name": "stdout",
     "output_type": "stream",
     "text": [
      "Hello friends\n"
     ]
    }
   ],
   "source": [
    "txt = \"hello friends\"\n",
    "x = txt.capitalize()\n",
    "print (x)"
   ]
  },
  {
   "cell_type": "code",
   "execution_count": 4,
   "id": "3053052a",
   "metadata": {},
   "outputs": [
    {
     "name": "stdout",
     "output_type": "stream",
     "text": [
      "How are you?\n"
     ]
    }
   ],
   "source": [
    "txt = \"how are you?\"\n",
    "x = txt.capitalize()\n",
    "print (x)"
   ]
  },
  {
   "cell_type": "markdown",
   "id": "c055f444",
   "metadata": {},
   "source": [
    "# casefold() Method"
   ]
  },
  {
   "cell_type": "markdown",
   "id": "815575d9",
   "metadata": {},
   "source": [
    "The casefold() method returns a string where all the characters are lower case."
   ]
  },
  {
   "cell_type": "code",
   "execution_count": 5,
   "id": "4eabf3df",
   "metadata": {},
   "outputs": [
    {
     "name": "stdout",
     "output_type": "stream",
     "text": [
      "hello, and welcome to my world!\n"
     ]
    }
   ],
   "source": [
    "txt = \"Hello, And Welcome To My World!\"\n",
    "x = txt.casefold()\n",
    "print(x)"
   ]
  },
  {
   "cell_type": "code",
   "execution_count": 7,
   "id": "1ce290b7",
   "metadata": {},
   "outputs": [
    {
     "name": "stdout",
     "output_type": "stream",
     "text": [
      "say hii\n"
     ]
    }
   ],
   "source": [
    "txt = \"Say Hii\"\n",
    "x = txt.casefold()\n",
    "print(x)"
   ]
  },
  {
   "cell_type": "markdown",
   "id": "5d964f12",
   "metadata": {},
   "source": [
    "# center() Method"
   ]
  },
  {
   "cell_type": "markdown",
   "id": "fca0f4ad",
   "metadata": {},
   "source": [
    "The center() method will center align the string, using a specified character (space is default) as the fill character."
   ]
  },
  {
   "cell_type": "code",
   "execution_count": 9,
   "id": "f7aa689d",
   "metadata": {},
   "outputs": [
    {
     "name": "stdout",
     "output_type": "stream",
     "text": [
      "       banana       \n"
     ]
    }
   ],
   "source": [
    "txt = \"banana\"\n",
    "x = txt.center(20)\n",
    "print(x)"
   ]
  },
  {
   "cell_type": "code",
   "execution_count": 10,
   "id": "09ed054d",
   "metadata": {},
   "outputs": [
    {
     "name": "stdout",
     "output_type": "stream",
     "text": [
      "                                       banana\n"
     ]
    }
   ],
   "source": [
    "txt = \"                                       banana\"\n",
    "x = txt.center(20)\n",
    "print(x)"
   ]
  },
  {
   "cell_type": "markdown",
   "id": "ee8639a3",
   "metadata": {},
   "source": [
    "# count() Method"
   ]
  },
  {
   "cell_type": "markdown",
   "id": "fb9a4ce3",
   "metadata": {},
   "source": [
    "The count() method returns the number of times a specified value appears in the string."
   ]
  },
  {
   "cell_type": "code",
   "execution_count": 11,
   "id": "4f6ba4d9",
   "metadata": {},
   "outputs": [
    {
     "name": "stdout",
     "output_type": "stream",
     "text": [
      "2\n"
     ]
    }
   ],
   "source": [
    "txt = \"I love apples, apple are my favorite fruit\"\n",
    "x = txt.count(\"apple\")\n",
    "print(x)"
   ]
  },
  {
   "cell_type": "code",
   "execution_count": 13,
   "id": "b26b96e4",
   "metadata": {},
   "outputs": [
    {
     "name": "stdout",
     "output_type": "stream",
     "text": [
      "3\n"
     ]
    }
   ],
   "source": [
    "txt = \"I love cricket, Saurabh love cricket, everyone loves cricket\"\n",
    "x = txt.count(\"cricket\")\n",
    "print(x)"
   ]
  },
  {
   "cell_type": "markdown",
   "id": "f0e0c9cc",
   "metadata": {},
   "source": [
    "# encode() Method\n",
    "     \n"
   ]
  },
  {
   "cell_type": "markdown",
   "id": "daa34676",
   "metadata": {},
   "source": [
    "This method is used to convert a string into bytes."
   ]
  },
  {
   "cell_type": "code",
   "execution_count": 17,
   "id": "f1378bf4",
   "metadata": {},
   "outputs": [
    {
     "name": "stdout",
     "output_type": "stream",
     "text": [
      "b'My name is megha'\n"
     ]
    }
   ],
   "source": [
    "txt = \"My name is megha\"\n",
    "x = txt.encode()\n",
    "print(x)"
   ]
  },
  {
   "cell_type": "code",
   "execution_count": 19,
   "id": "853fed8f",
   "metadata": {},
   "outputs": [
    {
     "name": "stdout",
     "output_type": "stream",
     "text": [
      "b'Hello world'\n"
     ]
    }
   ],
   "source": [
    "txt = \"Hello world\"\n",
    "x = txt.encode()\n",
    "print(x)"
   ]
  },
  {
   "cell_type": "markdown",
   "id": "be0e47d8",
   "metadata": {},
   "source": [
    "# endswith() Method"
   ]
  },
  {
   "cell_type": "markdown",
   "id": "6d640279",
   "metadata": {},
   "source": [
    "The endswith() method returns True if the string ends with the specified value, otherwise False."
   ]
  },
  {
   "cell_type": "code",
   "execution_count": 20,
   "id": "2e447734",
   "metadata": {},
   "outputs": [
    {
     "name": "stdout",
     "output_type": "stream",
     "text": [
      "True\n"
     ]
    }
   ],
   "source": [
    "txt = \"Vadakkam.\"\n",
    "x = txt.endswith(\".\")\n",
    "print(x)"
   ]
  },
  {
   "cell_type": "code",
   "execution_count": 21,
   "id": "6f1e15d3",
   "metadata": {},
   "outputs": [
    {
     "name": "stdout",
     "output_type": "stream",
     "text": [
      "False\n"
     ]
    }
   ],
   "source": [
    "txt = \"Namaste@\"\n",
    "x = txt.endswith(\"#\")\n",
    "print(x)"
   ]
  },
  {
   "cell_type": "markdown",
   "id": "6ba40c17",
   "metadata": {},
   "source": [
    "# expandtabs() Method"
   ]
  },
  {
   "cell_type": "markdown",
   "id": "a03f8e78",
   "metadata": {},
   "source": [
    "The expandtabs() method sets the tab size to the specified number of whitespaces."
   ]
  },
  {
   "cell_type": "code",
   "execution_count": 22,
   "id": "8cbdd3a8",
   "metadata": {},
   "outputs": [
    {
     "name": "stdout",
     "output_type": "stream",
     "text": [
      "H e l l o\n"
     ]
    }
   ],
   "source": [
    "txt = \"H\\te\\tl\\tl\\to\"\n",
    "x =  txt.expandtabs(2)\n",
    "print(x)"
   ]
  },
  {
   "cell_type": "code",
   "execution_count": 25,
   "id": "843c1fdd",
   "metadata": {},
   "outputs": [
    {
     "name": "stdout",
     "output_type": "stream",
     "text": [
      "N\ta\tm\ta\ts\tt\te\n",
      "N       a       m       a       s       t       e\n",
      "N a m a s t e\n",
      "N   a   m   a   s   t   e\n",
      "N         a         m         a         s         t         e\n"
     ]
    }
   ],
   "source": [
    "txt = \"N\\ta\\tm\\ta\\ts\\tt\\te\"\n",
    "print(txt)\n",
    "print(txt.expandtabs())\n",
    "print(txt.expandtabs(2))\n",
    "print(txt.expandtabs(4))\n",
    "print(txt.expandtabs(10))"
   ]
  },
  {
   "cell_type": "markdown",
   "id": "764268da",
   "metadata": {},
   "source": [
    "# find() Method"
   ]
  },
  {
   "cell_type": "markdown",
   "id": "867eb175",
   "metadata": {},
   "source": [
    "\n",
    "The find() method finds the first occurrence of the specified value."
   ]
  },
  {
   "cell_type": "code",
   "execution_count": 28,
   "id": "c8b07027",
   "metadata": {},
   "outputs": [
    {
     "name": "stdout",
     "output_type": "stream",
     "text": [
      "7\n"
     ]
    }
   ],
   "source": [
    "txt = \"Hello, welcome to my world.\"\n",
    "x = txt.find(\"welcome\")\n",
    "print(x)"
   ]
  },
  {
   "cell_type": "code",
   "execution_count": 32,
   "id": "4647597c",
   "metadata": {},
   "outputs": [
    {
     "name": "stdout",
     "output_type": "stream",
     "text": [
      "21\n"
     ]
    }
   ],
   "source": [
    "txt = \"Hello, welcome to my world.\"\n",
    "x = txt.find(\"world\")\n",
    "print(x)"
   ]
  },
  {
   "cell_type": "markdown",
   "id": "7fc56a6f",
   "metadata": {},
   "source": [
    "# format() Method"
   ]
  },
  {
   "cell_type": "markdown",
   "id": "4b04ffed",
   "metadata": {},
   "source": [
    "The format() method formats the specified value(s) and insert them inside the string's placeholder."
   ]
  },
  {
   "cell_type": "code",
   "execution_count": 33,
   "id": "4ad7fe0e",
   "metadata": {},
   "outputs": [
    {
     "name": "stdout",
     "output_type": "stream",
     "text": [
      "For only 49.00 dollars!\n"
     ]
    }
   ],
   "source": [
    "txt = \"For only {price:.2f} dollars!\"\n",
    "print(txt.format(price = 49))"
   ]
  },
  {
   "cell_type": "code",
   "execution_count": 35,
   "id": "6fc1c197",
   "metadata": {},
   "outputs": [],
   "source": [
    "txt1 = \"My name is {fname}, I'm {age}\".format(fname = \"John\", age = 36)\n",
    "txt2 = \"My name is {0}, I'm {1}\".format(\"John\",36)\n",
    "txt3 = \"My name is {}, I'm {}\".format(\"John\",36)"
   ]
  },
  {
   "cell_type": "code",
   "execution_count": 36,
   "id": "aaa6249e",
   "metadata": {},
   "outputs": [
    {
     "name": "stdout",
     "output_type": "stream",
     "text": [
      "My name is John, I'm 36\n"
     ]
    }
   ],
   "source": [
    "print(txt1)"
   ]
  },
  {
   "cell_type": "markdown",
   "id": "d58fee36",
   "metadata": {},
   "source": [
    "# format_map()"
   ]
  },
  {
   "cell_type": "markdown",
   "id": "6c897d85",
   "metadata": {},
   "source": [
    "Formats specified values in a string"
   ]
  },
  {
   "cell_type": "code",
   "execution_count": 38,
   "id": "0563f3fe",
   "metadata": {},
   "outputs": [
    {
     "name": "stdout",
     "output_type": "stream",
     "text": [
      "My name is Megha and I am 22 years old.\n"
     ]
    }
   ],
   "source": [
    "person = {'name': 'Megha', 'age': 22}\n",
    "sentence = \"My name is {name} and I am {age} years old.\".format_map(person)\n",
    "print(sentence)\n"
   ]
  },
  {
   "cell_type": "code",
   "execution_count": 40,
   "id": "a12666cf",
   "metadata": {},
   "outputs": [
    {
     "name": "stdout",
     "output_type": "stream",
     "text": [
      "I live in Nagpur and I studied in xyz college.\n"
     ]
    }
   ],
   "source": [
    "person = {'City': 'Nagpur', 'College': 'xyz'}\n",
    "sentence = \"I live in {City} and I studied in {College} college.\".format_map(person)\n",
    "print(sentence)"
   ]
  },
  {
   "cell_type": "markdown",
   "id": "287d1ba2",
   "metadata": {},
   "source": [
    "# index() Method\n",
    "\n"
   ]
  },
  {
   "cell_type": "markdown",
   "id": "2271b92d",
   "metadata": {},
   "source": [
    "The index() method finds the first occurrence of the specified value."
   ]
  },
  {
   "cell_type": "code",
   "execution_count": 41,
   "id": "c4cd6649",
   "metadata": {},
   "outputs": [
    {
     "name": "stdout",
     "output_type": "stream",
     "text": [
      "7\n"
     ]
    }
   ],
   "source": [
    "txt = \"Hello, welcome to my world.\"\n",
    "x = txt.index(\"welcome\")\n",
    "print(x)"
   ]
  },
  {
   "cell_type": "code",
   "execution_count": 42,
   "id": "42d079a8",
   "metadata": {},
   "outputs": [
    {
     "name": "stdout",
     "output_type": "stream",
     "text": [
      "10\n"
     ]
    }
   ],
   "source": [
    "txt = \"I am from Maharashtra\"\n",
    "x = txt.index(\"Maharashtra\")\n",
    "print(x)"
   ]
  },
  {
   "cell_type": "markdown",
   "id": "c3252e3f",
   "metadata": {},
   "source": [
    "# isalnum() Method"
   ]
  },
  {
   "cell_type": "markdown",
   "id": "58b2ba16",
   "metadata": {},
   "source": [
    "isalnum() method returns True if all the characters are alphanumeric, meaning alphabet letter (a-z) and numbers (0-9).\n",
    "Example of characters that are not alphanumeric: (space)!#%&? etc."
   ]
  },
  {
   "cell_type": "code",
   "execution_count": 43,
   "id": "9c982ad6",
   "metadata": {},
   "outputs": [
    {
     "name": "stdout",
     "output_type": "stream",
     "text": [
      "True\n"
     ]
    }
   ],
   "source": [
    "txt = \"Megha26\"\n",
    "x = txt.isalnum()\n",
    "print(x)"
   ]
  },
  {
   "cell_type": "code",
   "execution_count": 45,
   "id": "9fabc2b1",
   "metadata": {},
   "outputs": [
    {
     "name": "stdout",
     "output_type": "stream",
     "text": [
      "False\n"
     ]
    }
   ],
   "source": [
    "txt = \"Megha@26\"\n",
    "x = txt.isalnum()\n",
    "print(x)"
   ]
  },
  {
   "cell_type": "markdown",
   "id": "fbcefb45",
   "metadata": {},
   "source": [
    "# isalpha() Method"
   ]
  },
  {
   "cell_type": "markdown",
   "id": "b309d9a5",
   "metadata": {},
   "source": [
    "The isalpha() method returns True if all the characters are alphabet letters (a-z)."
   ]
  },
  {
   "cell_type": "code",
   "execution_count": 46,
   "id": "8bfeda27",
   "metadata": {},
   "outputs": [
    {
     "name": "stdout",
     "output_type": "stream",
     "text": [
      "True\n"
     ]
    }
   ],
   "source": [
    "txt = \"CompanyX\"\n",
    "x = txt.isalpha()\n",
    "print(x)"
   ]
  },
  {
   "cell_type": "code",
   "execution_count": 47,
   "id": "5371e6bc",
   "metadata": {},
   "outputs": [
    {
     "name": "stdout",
     "output_type": "stream",
     "text": [
      "False\n"
     ]
    }
   ],
   "source": [
    "txt = \"company4\"\n",
    "x = txt.isalpha()\n",
    "print(x)"
   ]
  },
  {
   "cell_type": "markdown",
   "id": "4edb8df9",
   "metadata": {},
   "source": [
    "# isascii() Method"
   ]
  },
  {
   "cell_type": "markdown",
   "id": "71b50f24",
   "metadata": {},
   "source": [
    "The isascii() method returns True if all the characters are ascii characters  (a-z)."
   ]
  },
  {
   "cell_type": "code",
   "execution_count": 48,
   "id": "a631b843",
   "metadata": {},
   "outputs": [
    {
     "name": "stdout",
     "output_type": "stream",
     "text": [
      "True\n"
     ]
    }
   ],
   "source": [
    "txt = \"Company123\"\n",
    "x = txt.isascii()\n",
    "print(x)"
   ]
  },
  {
   "cell_type": "code",
   "execution_count": 49,
   "id": "8fb92e38",
   "metadata": {},
   "outputs": [
    {
     "name": "stdout",
     "output_type": "stream",
     "text": [
      "True\n"
     ]
    }
   ],
   "source": [
    "txt = \"@@@\"\n",
    "x = txt.isascii()\n",
    "print(x)"
   ]
  },
  {
   "cell_type": "markdown",
   "id": "837ee84a",
   "metadata": {},
   "source": [
    "# isdecimal() Method"
   ]
  },
  {
   "cell_type": "markdown",
   "id": "1e4e7f89",
   "metadata": {},
   "source": [
    "The isdecimal() method returns True if all the characters are decimals (0-9)."
   ]
  },
  {
   "cell_type": "code",
   "execution_count": 50,
   "id": "b22105d9",
   "metadata": {},
   "outputs": [
    {
     "name": "stdout",
     "output_type": "stream",
     "text": [
      "True\n"
     ]
    }
   ],
   "source": [
    "txt = \"1234\"\n",
    "x = txt.isdecimal()\n",
    "print(x)"
   ]
  },
  {
   "cell_type": "code",
   "execution_count": 51,
   "id": "8a0d3fd5",
   "metadata": {},
   "outputs": [
    {
     "name": "stdout",
     "output_type": "stream",
     "text": [
      "False\n"
     ]
    }
   ],
   "source": [
    "txt = \"1-2\"\n",
    "x = txt.isdecimal()\n",
    "print(x)"
   ]
  },
  {
   "cell_type": "markdown",
   "id": "3403ecc6",
   "metadata": {},
   "source": [
    "# isdigit() Method"
   ]
  },
  {
   "cell_type": "markdown",
   "id": "3157f147",
   "metadata": {},
   "source": [
    "The isdigit() method returns True if all the characters are digits, otherwise False."
   ]
  },
  {
   "cell_type": "code",
   "execution_count": 52,
   "id": "42ee6cd3",
   "metadata": {},
   "outputs": [
    {
     "name": "stdout",
     "output_type": "stream",
     "text": [
      "True\n"
     ]
    }
   ],
   "source": [
    "txt = \"50800\"\n",
    "x = txt.isdigit()\n",
    "print(x)"
   ]
  },
  {
   "cell_type": "code",
   "execution_count": 53,
   "id": "3fb7e6e0",
   "metadata": {},
   "outputs": [
    {
     "name": "stdout",
     "output_type": "stream",
     "text": [
      "False\n"
     ]
    }
   ],
   "source": [
    "txt = \"abc123\"\n",
    "x = txt.isdigit()\n",
    "print(x)"
   ]
  },
  {
   "cell_type": "markdown",
   "id": "05a3207c",
   "metadata": {},
   "source": [
    "# isidentifier() Method\n",
    "\n"
   ]
  },
  {
   "cell_type": "markdown",
   "id": "89c52c4d",
   "metadata": {},
   "source": [
    "The isidentifier() method returns True if the string is a valid identifier, otherwise False."
   ]
  },
  {
   "cell_type": "code",
   "execution_count": 54,
   "id": "2ae8c2a1",
   "metadata": {},
   "outputs": [
    {
     "name": "stdout",
     "output_type": "stream",
     "text": [
      "True\n"
     ]
    }
   ],
   "source": [
    "txt = \"Demo\"\n",
    "x = txt.isidentifier()\n",
    "print(x)"
   ]
  },
  {
   "cell_type": "code",
   "execution_count": 55,
   "id": "ec26c680",
   "metadata": {},
   "outputs": [
    {
     "name": "stdout",
     "output_type": "stream",
     "text": [
      "False\n"
     ]
    }
   ],
   "source": [
    "txt = \"Demo at 2pm\"\n",
    "x = txt.isidentifier()\n",
    "print(x)"
   ]
  },
  {
   "cell_type": "markdown",
   "id": "1f786c2e",
   "metadata": {},
   "source": [
    "# islower() Method"
   ]
  },
  {
   "cell_type": "markdown",
   "id": "e1396416",
   "metadata": {},
   "source": [
    "The islower() method returns True if all the characters are in lower case, otherwise False."
   ]
  },
  {
   "cell_type": "code",
   "execution_count": 56,
   "id": "18cecc01",
   "metadata": {},
   "outputs": [
    {
     "name": "stdout",
     "output_type": "stream",
     "text": [
      "True\n"
     ]
    }
   ],
   "source": [
    "txt = \"hello world!\"\n",
    "x = txt.islower()\n",
    "print(x)"
   ]
  },
  {
   "cell_type": "code",
   "execution_count": 57,
   "id": "259127bb",
   "metadata": {},
   "outputs": [
    {
     "name": "stdout",
     "output_type": "stream",
     "text": [
      "False\n"
     ]
    }
   ],
   "source": [
    "txt = \"Hello world!\"\n",
    "x = txt.islower()\n",
    "print(x)"
   ]
  },
  {
   "cell_type": "markdown",
   "id": "5ffb6c37",
   "metadata": {},
   "source": [
    "# isnumeric() Method"
   ]
  },
  {
   "cell_type": "markdown",
   "id": "057ece5c",
   "metadata": {},
   "source": [
    "The isnumeric() method returns True if all the characters are numeric (0-9), otherwise False."
   ]
  },
  {
   "cell_type": "code",
   "execution_count": 58,
   "id": "825cdef1",
   "metadata": {},
   "outputs": [
    {
     "name": "stdout",
     "output_type": "stream",
     "text": [
      "True\n"
     ]
    }
   ],
   "source": [
    "txt = \"565543\"\n",
    "x = txt.isnumeric()\n",
    "print(x)"
   ]
  },
  {
   "cell_type": "code",
   "execution_count": 59,
   "id": "5d6b7677",
   "metadata": {},
   "outputs": [
    {
     "name": "stdout",
     "output_type": "stream",
     "text": [
      "False\n"
     ]
    }
   ],
   "source": [
    "txt = \"56abc\"\n",
    "x = txt.isnumeric()\n",
    "print(x)"
   ]
  },
  {
   "cell_type": "markdown",
   "id": "3edcc4fb",
   "metadata": {},
   "source": [
    "# isprintable() Method"
   ]
  },
  {
   "cell_type": "markdown",
   "id": "0147978e",
   "metadata": {},
   "source": [
    "The isprintable() method returns True if all the characters are printable, otherwise False."
   ]
  },
  {
   "cell_type": "code",
   "execution_count": 60,
   "id": "f472e17c",
   "metadata": {},
   "outputs": [
    {
     "name": "stdout",
     "output_type": "stream",
     "text": [
      "True\n"
     ]
    }
   ],
   "source": [
    "txt = \"Hello! Are you #1?\"\n",
    "x = txt.isprintable()\n",
    "print(x)"
   ]
  },
  {
   "cell_type": "code",
   "execution_count": 61,
   "id": "726fd76c",
   "metadata": {},
   "outputs": [
    {
     "name": "stdout",
     "output_type": "stream",
     "text": [
      "True\n"
     ]
    }
   ],
   "source": [
    "txt = \"I am fine :)\"\n",
    "x = txt.isprintable()\n",
    "print(x)"
   ]
  },
  {
   "cell_type": "code",
   "execution_count": 62,
   "id": "9d388104",
   "metadata": {},
   "outputs": [
    {
     "name": "stdout",
     "output_type": "stream",
     "text": [
      "False\n"
     ]
    }
   ],
   "source": [
    "txt = \"Hello!\\nAre you #1?\"\n",
    "x = txt.isprintable()\n",
    "print(x)"
   ]
  },
  {
   "cell_type": "markdown",
   "id": "dd6a0690",
   "metadata": {},
   "source": [
    "# isspace() Method"
   ]
  },
  {
   "cell_type": "markdown",
   "id": "e2217381",
   "metadata": {},
   "source": [
    "The isspace() method returns True if all the characters in a string are whitespaces, otherwise False."
   ]
  },
  {
   "cell_type": "code",
   "execution_count": 63,
   "id": "bc69c038",
   "metadata": {},
   "outputs": [
    {
     "name": "stdout",
     "output_type": "stream",
     "text": [
      "False\n"
     ]
    }
   ],
   "source": [
    "txt = \"   s   \"\n",
    "x = txt.isspace()\n",
    "print(x)"
   ]
  },
  {
   "cell_type": "code",
   "execution_count": 64,
   "id": "b8350494",
   "metadata": {},
   "outputs": [
    {
     "name": "stdout",
     "output_type": "stream",
     "text": [
      "True\n"
     ]
    }
   ],
   "source": [
    "txt = \"   \"\n",
    "x = txt.isspace()\n",
    "print(x)"
   ]
  },
  {
   "cell_type": "markdown",
   "id": "ba14a780",
   "metadata": {},
   "source": [
    "# istitle() Method"
   ]
  },
  {
   "cell_type": "markdown",
   "id": "54c187a3",
   "metadata": {},
   "source": [
    "The istitle() method returns True if all words in a text start with a upper case letter, AND the rest of the word are lower case letters, otherwise False."
   ]
  },
  {
   "cell_type": "code",
   "execution_count": 66,
   "id": "f2799fd7",
   "metadata": {},
   "outputs": [
    {
     "name": "stdout",
     "output_type": "stream",
     "text": [
      "True\n"
     ]
    }
   ],
   "source": [
    "txt = \"Hello, And Welcome To My World!\"\n",
    "x = txt.istitle()\n",
    "print(x)"
   ]
  },
  {
   "cell_type": "code",
   "execution_count": 69,
   "id": "36ec07d4",
   "metadata": {},
   "outputs": [
    {
     "name": "stdout",
     "output_type": "stream",
     "text": [
      "False\n",
      "True\n",
      "True\n",
      "True\n"
     ]
    }
   ],
   "source": [
    "a = \"HELLO, AND WELCOME TO ARC\"\n",
    "b = \"Hello\"\n",
    "c = \"22 Names\"\n",
    "d = \"This Is %'!?\"\n",
    "\n",
    "print(a.istitle())\n",
    "print(b.istitle())\n",
    "print(c.istitle())\n",
    "print(d.istitle())"
   ]
  },
  {
   "cell_type": "markdown",
   "id": "cbc1e28f",
   "metadata": {},
   "source": [
    "# isupper() Method"
   ]
  },
  {
   "cell_type": "markdown",
   "id": "ece01afd",
   "metadata": {},
   "source": [
    "The isupper() method returns True if all the characters are in upper case, otherwise False."
   ]
  },
  {
   "cell_type": "code",
   "execution_count": 70,
   "id": "a7cc6b68",
   "metadata": {},
   "outputs": [
    {
     "name": "stdout",
     "output_type": "stream",
     "text": [
      "True\n"
     ]
    }
   ],
   "source": [
    "txt = \"THIS IS NOW!\"\n",
    "x = txt.isupper()\n",
    "print(x)"
   ]
  },
  {
   "cell_type": "code",
   "execution_count": 72,
   "id": "b9d74dfe",
   "metadata": {},
   "outputs": [
    {
     "name": "stdout",
     "output_type": "stream",
     "text": [
      "False\n",
      "False\n",
      "True\n"
     ]
    }
   ],
   "source": [
    "a = \"Hello World!\"\n",
    "b = \"hello 123\"\n",
    "c = \"MY NAME IS MEGHA\"\n",
    "\n",
    "print(a.isupper())\n",
    "print(b.isupper())\n",
    "print(c.isupper())"
   ]
  },
  {
   "cell_type": "markdown",
   "id": "c78d8315",
   "metadata": {},
   "source": [
    "# join() Method"
   ]
  },
  {
   "cell_type": "markdown",
   "id": "70f7b5b5",
   "metadata": {},
   "source": [
    "The join() method takes all items in an iterable and joins them into one string."
   ]
  },
  {
   "cell_type": "code",
   "execution_count": 73,
   "id": "1fc74b47",
   "metadata": {},
   "outputs": [
    {
     "name": "stdout",
     "output_type": "stream",
     "text": [
      "John#Peter#Vicky\n"
     ]
    }
   ],
   "source": [
    "myTuple = (\"John\", \"Peter\", \"Vicky\")\n",
    "x = \"#\".join(myTuple)\n",
    "print(x)"
   ]
  },
  {
   "cell_type": "code",
   "execution_count": 74,
   "id": "ffc1c94e",
   "metadata": {},
   "outputs": [
    {
     "name": "stdout",
     "output_type": "stream",
     "text": [
      "John_Peter_Vicky\n"
     ]
    }
   ],
   "source": [
    "myTuple = (\"John\", \"Peter\", \"Vicky\")\n",
    "x = \"_\".join(myTuple)\n",
    "print(x)"
   ]
  },
  {
   "cell_type": "markdown",
   "id": "ed4d54a2",
   "metadata": {},
   "source": [
    "# ljust() Method"
   ]
  },
  {
   "cell_type": "markdown",
   "id": "ed66706f",
   "metadata": {},
   "source": [
    "The ljust() method will left align the string, using a specified character (space is default) as the fill character.\n",
    "\n"
   ]
  },
  {
   "cell_type": "code",
   "execution_count": 75,
   "id": "a70384c1",
   "metadata": {},
   "outputs": [
    {
     "name": "stdout",
     "output_type": "stream",
     "text": [
      "banana     is my favorite fruit.\n"
     ]
    }
   ],
   "source": [
    "txt = \"banana\"\n",
    "x = txt.ljust(10)\n",
    "print(x, \"is my favorite fruit.\")"
   ]
  },
  {
   "cell_type": "code",
   "execution_count": 76,
   "id": "dc207284",
   "metadata": {},
   "outputs": [
    {
     "name": "stdout",
     "output_type": "stream",
     "text": [
      "mango                                              is my favorite fruit.\n"
     ]
    }
   ],
   "source": [
    "txt = \"mango\"\n",
    "x = txt.ljust(50)\n",
    "print(x, \"is my favorite fruit.\")"
   ]
  },
  {
   "cell_type": "markdown",
   "id": "e4f2c788",
   "metadata": {},
   "source": [
    "# lower() Method"
   ]
  },
  {
   "cell_type": "markdown",
   "id": "629509d3",
   "metadata": {},
   "source": [
    "The lower() method returns a string where all characters are lower case."
   ]
  },
  {
   "cell_type": "code",
   "execution_count": 77,
   "id": "08483137",
   "metadata": {},
   "outputs": [
    {
     "name": "stdout",
     "output_type": "stream",
     "text": [
      "hello my friends\n"
     ]
    }
   ],
   "source": [
    "txt = \"Hello my FRIENDS\"\n",
    "x = txt.lower()\n",
    "print(x)"
   ]
  },
  {
   "cell_type": "code",
   "execution_count": 78,
   "id": "27bf82d9",
   "metadata": {},
   "outputs": [
    {
     "name": "stdout",
     "output_type": "stream",
     "text": [
      "kemcho\n"
     ]
    }
   ],
   "source": [
    "txt = \"KEMCHO\"\n",
    "x = txt.lower()\n",
    "print(x)"
   ]
  },
  {
   "cell_type": "markdown",
   "id": "8c7fcf4c",
   "metadata": {},
   "source": [
    "# lstrip() Method"
   ]
  },
  {
   "cell_type": "markdown",
   "id": "64948cb9",
   "metadata": {},
   "source": [
    "The lstrip() method removes any leading characters (space is the default leading character to remove)"
   ]
  },
  {
   "cell_type": "code",
   "execution_count": 79,
   "id": "79975e00",
   "metadata": {},
   "outputs": [
    {
     "name": "stdout",
     "output_type": "stream",
     "text": [
      "of all fruits banana      is my favorite\n"
     ]
    }
   ],
   "source": [
    "txt = \"     banana     \"\n",
    "x = txt.lstrip()\n",
    "print(\"of all fruits\", x, \"is my favorite\")"
   ]
  },
  {
   "cell_type": "code",
   "execution_count": 81,
   "id": "25139268",
   "metadata": {},
   "outputs": [
    {
     "name": "stdout",
     "output_type": "stream",
     "text": [
      "mango is king of fruits\n"
     ]
    }
   ],
   "source": [
    "txt = \"         mango\"\n",
    "x = txt.lstrip()\n",
    "print( x, \"is king of fruits\")"
   ]
  },
  {
   "cell_type": "markdown",
   "id": "b2d1daaa",
   "metadata": {},
   "source": [
    "# maketrans() Method"
   ]
  },
  {
   "cell_type": "markdown",
   "id": "aeb2f0b3",
   "metadata": {},
   "source": [
    "The maketrans() method returns a mapping table that can be used with the translate() method to replace specified characters."
   ]
  },
  {
   "cell_type": "code",
   "execution_count": 82,
   "id": "5f84aac4",
   "metadata": {},
   "outputs": [
    {
     "name": "stdout",
     "output_type": "stream",
     "text": [
      "Hello Mam!\n"
     ]
    }
   ],
   "source": [
    "txt = \"Hello Sam!\"\n",
    "mytable = str.maketrans(\"S\", \"M\")\n",
    "print(txt.translate(mytable))"
   ]
  },
  {
   "cell_type": "code",
   "execution_count": 84,
   "id": "7210a3b0",
   "metadata": {},
   "outputs": [
    {
     "name": "stdout",
     "output_type": "stream",
     "text": [
      "Welcome to Delhi!\n"
     ]
    }
   ],
   "source": [
    "txt = \"Welcome to India!\"\n",
    "mytable = str.maketrans(\"India\", \"Delhi\")\n",
    "print(txt.translate(mytable))"
   ]
  },
  {
   "cell_type": "markdown",
   "id": "cbe14798",
   "metadata": {},
   "source": [
    "# partition() Method"
   ]
  },
  {
   "cell_type": "markdown",
   "id": "fc0ef5f0",
   "metadata": {},
   "source": [
    "The partition() method searches for a specified string, and splits the string into a tuple containing three elements."
   ]
  },
  {
   "cell_type": "code",
   "execution_count": 85,
   "id": "4e8774e7",
   "metadata": {},
   "outputs": [
    {
     "name": "stdout",
     "output_type": "stream",
     "text": [
      "('I could eat ', 'bananas', ' all day')\n"
     ]
    }
   ],
   "source": [
    "txt = \"I could eat bananas all day\"\n",
    "x = txt.partition(\"bananas\")\n",
    "print(x)"
   ]
  },
  {
   "cell_type": "code",
   "execution_count": 86,
   "id": "a7ea7a46",
   "metadata": {},
   "outputs": [
    {
     "name": "stdout",
     "output_type": "stream",
     "text": [
      "('We celebrate ', 'every', ' weekend')\n"
     ]
    }
   ],
   "source": [
    "txt = \"We celebrate every weekend\"\n",
    "x = txt.partition(\"every\")\n",
    "print(x)"
   ]
  },
  {
   "cell_type": "markdown",
   "id": "00bfd12f",
   "metadata": {},
   "source": [
    "# rfind() Method\n",
    "\n"
   ]
  },
  {
   "cell_type": "markdown",
   "id": "08e52235",
   "metadata": {},
   "source": [
    "The rfind() method finds the last occurrence of the specified value."
   ]
  },
  {
   "cell_type": "code",
   "execution_count": 87,
   "id": "d56fb892",
   "metadata": {},
   "outputs": [
    {
     "name": "stdout",
     "output_type": "stream",
     "text": [
      "12\n"
     ]
    }
   ],
   "source": [
    "txt = \"Mi casa, su casa.\"\n",
    "x = txt.rfind(\"casa\")\n",
    "print(x)"
   ]
  },
  {
   "cell_type": "code",
   "execution_count": 88,
   "id": "f91ad1a1",
   "metadata": {},
   "outputs": [
    {
     "name": "stdout",
     "output_type": "stream",
     "text": [
      "17\n"
     ]
    }
   ],
   "source": [
    "txt = \"My name is riya, riya live in nagpur\"\n",
    "x = txt.rfind(\"riya\")\n",
    "print(x)"
   ]
  },
  {
   "cell_type": "markdown",
   "id": "274a2ce4",
   "metadata": {},
   "source": [
    "# rjust() Method"
   ]
  },
  {
   "cell_type": "markdown",
   "id": "c24b4fd8",
   "metadata": {},
   "source": [
    "The rjust() method will right align the string, using a specified character (space is default) as the fill character."
   ]
  },
  {
   "cell_type": "code",
   "execution_count": 89,
   "id": "d98864a6",
   "metadata": {},
   "outputs": [
    {
     "name": "stdout",
     "output_type": "stream",
     "text": [
      "              banana is my favorite fruit.\n"
     ]
    }
   ],
   "source": [
    "txt = \"banana\"\n",
    "x = txt.rjust(20)\n",
    "print(x, \"is my favorite fruit.\")"
   ]
  },
  {
   "cell_type": "markdown",
   "id": "e2998033",
   "metadata": {},
   "source": [
    "# rpartition() Method"
   ]
  },
  {
   "cell_type": "markdown",
   "id": "81430086",
   "metadata": {},
   "source": [
    "The rpartition() method searches for the last occurrence of a specified string, and splits the string into a tuple containing three elements."
   ]
  },
  {
   "cell_type": "code",
   "execution_count": 90,
   "id": "9802f54f",
   "metadata": {},
   "outputs": [
    {
     "name": "stdout",
     "output_type": "stream",
     "text": [
      "('I could eat bananas all day, ', 'bananas', ' are my favorite fruit')\n"
     ]
    }
   ],
   "source": [
    "txt = \"I could eat bananas all day, bananas are my favorite fruit\"\n",
    "x = txt.rpartition(\"bananas\")\n",
    "print(x)"
   ]
  },
  {
   "cell_type": "markdown",
   "id": "39fcd1d3",
   "metadata": {},
   "source": [
    "# rsplit() Method"
   ]
  },
  {
   "cell_type": "markdown",
   "id": "8ba9036f",
   "metadata": {},
   "source": [
    "The rsplit() method splits a string into a list, starting from the right.\n",
    "\n",
    "If no \"max\" is specified, this method will return the same as the split() method."
   ]
  },
  {
   "cell_type": "code",
   "execution_count": 91,
   "id": "c479381d",
   "metadata": {},
   "outputs": [
    {
     "name": "stdout",
     "output_type": "stream",
     "text": [
      "['apple', 'banana', 'cherry']\n"
     ]
    }
   ],
   "source": [
    "txt = \"apple, banana, cherry\"\n",
    "x = txt.rsplit(\", \")\n",
    "print(x)"
   ]
  },
  {
   "cell_type": "code",
   "execution_count": 92,
   "id": "816adc2d",
   "metadata": {},
   "outputs": [
    {
     "name": "stdout",
     "output_type": "stream",
     "text": [
      "['megha123', 'aishwarya29', 'riyac03']\n"
     ]
    }
   ],
   "source": [
    "txt = \"megha123, aishwarya29, riyac03\"\n",
    "x = txt.rsplit(\", \")\n",
    "print(x)"
   ]
  },
  {
   "cell_type": "markdown",
   "id": "1078a9fa",
   "metadata": {},
   "source": [
    "# split() Method"
   ]
  },
  {
   "cell_type": "markdown",
   "id": "5323fd54",
   "metadata": {},
   "source": [
    "The split() method splits a string into a list."
   ]
  },
  {
   "cell_type": "code",
   "execution_count": 93,
   "id": "304b08b5",
   "metadata": {},
   "outputs": [
    {
     "name": "stdout",
     "output_type": "stream",
     "text": [
      "['welcome', 'to', 'the', 'jungle']\n"
     ]
    }
   ],
   "source": [
    "txt = \"welcome to the jungle\"\n",
    "x = txt.split()\n",
    "print(x)"
   ]
  },
  {
   "cell_type": "code",
   "execution_count": 94,
   "id": "41259840",
   "metadata": {},
   "outputs": [
    {
     "name": "stdout",
     "output_type": "stream",
     "text": [
      "['apple', 'banana', 'cherry', 'orange']\n"
     ]
    }
   ],
   "source": [
    "txt = \"apple#banana#cherry#orange\"\n",
    "x = txt.split(\"#\")\n",
    "print(x)"
   ]
  },
  {
   "cell_type": "markdown",
   "id": "d57543b0",
   "metadata": {},
   "source": [
    "# splitlines() Method"
   ]
  },
  {
   "cell_type": "markdown",
   "id": "d0e05128",
   "metadata": {},
   "source": [
    "The splitlines() method splits a string into a list. The splitting is done at line breaks."
   ]
  },
  {
   "cell_type": "code",
   "execution_count": 95,
   "id": "fde141b3",
   "metadata": {},
   "outputs": [
    {
     "name": "stdout",
     "output_type": "stream",
     "text": [
      "['Thank you for the music', 'Welcome to the jungle']\n"
     ]
    }
   ],
   "source": [
    "txt = \"Thank you for the music\\nWelcome to the jungle\"\n",
    "x = txt.splitlines()\n",
    "print(x)"
   ]
  },
  {
   "cell_type": "code",
   "execution_count": 96,
   "id": "387d1908",
   "metadata": {},
   "outputs": [
    {
     "name": "stdout",
     "output_type": "stream",
     "text": [
      "['Thank you for the music\\n', 'Welcome to the jungle']\n"
     ]
    }
   ],
   "source": [
    "txt = \"Thank you for the music\\nWelcome to the jungle\"\n",
    "x = txt.splitlines(True)\n",
    "print(x)"
   ]
  },
  {
   "cell_type": "markdown",
   "id": "35acf87b",
   "metadata": {},
   "source": [
    "# startswith() Method"
   ]
  },
  {
   "cell_type": "markdown",
   "id": "fd4f3cf0",
   "metadata": {},
   "source": [
    "The startswith() method returns True if the string starts with the specified value, otherwise False."
   ]
  },
  {
   "cell_type": "code",
   "execution_count": 97,
   "id": "3bb744dd",
   "metadata": {},
   "outputs": [
    {
     "name": "stdout",
     "output_type": "stream",
     "text": [
      "True\n"
     ]
    }
   ],
   "source": [
    "txt = \"Hello, welcome to my world.\"\n",
    "x = txt.startswith(\"Hello\")\n",
    "print(x)"
   ]
  },
  {
   "cell_type": "code",
   "execution_count": 98,
   "id": "fe3e9a5e",
   "metadata": {},
   "outputs": [
    {
     "name": "stdout",
     "output_type": "stream",
     "text": [
      "False\n"
     ]
    }
   ],
   "source": [
    "txt = \"Hii, welcome to my world.\"\n",
    "x = txt.startswith(\"Hello\")\n",
    "print(x)"
   ]
  },
  {
   "cell_type": "markdown",
   "id": "cbc8744c",
   "metadata": {},
   "source": [
    "# swapcase() Method"
   ]
  },
  {
   "cell_type": "markdown",
   "id": "0e60e8e8",
   "metadata": {},
   "source": [
    "The swapcase() method returns a string where all the upper case letters are lower case and vice versa."
   ]
  },
  {
   "cell_type": "code",
   "execution_count": 99,
   "id": "00eb598d",
   "metadata": {},
   "outputs": [
    {
     "name": "stdout",
     "output_type": "stream",
     "text": [
      "hELLO mY nAME iS mEGHA\n"
     ]
    }
   ],
   "source": [
    "txt = \"Hello My Name Is Megha\"\n",
    "x = txt.swapcase()\n",
    "print(x)"
   ]
  },
  {
   "cell_type": "code",
   "execution_count": 101,
   "id": "abbc5639",
   "metadata": {},
   "outputs": [
    {
     "name": "stdout",
     "output_type": "stream",
     "text": [
      "How Are You?\n"
     ]
    }
   ],
   "source": [
    "txt = \"hOW aRE yOU?\"\n",
    "x = txt.swapcase()\n",
    "print(x)"
   ]
  },
  {
   "cell_type": "markdown",
   "id": "924ec55d",
   "metadata": {},
   "source": [
    "# title() Method"
   ]
  },
  {
   "cell_type": "markdown",
   "id": "c684a06e",
   "metadata": {},
   "source": [
    "The title() method returns a string where the first character in every word is upper case. Like a header, or a title."
   ]
  },
  {
   "cell_type": "code",
   "execution_count": 102,
   "id": "7942718c",
   "metadata": {},
   "outputs": [
    {
     "name": "stdout",
     "output_type": "stream",
     "text": [
      "Welcome To My World\n"
     ]
    }
   ],
   "source": [
    "txt = \"Welcome to my world\"\n",
    "x = txt.title()\n",
    "print(x)"
   ]
  },
  {
   "cell_type": "markdown",
   "id": "dc857ea4",
   "metadata": {},
   "source": [
    "translate() Method"
   ]
  },
  {
   "cell_type": "code",
   "execution_count": 103,
   "id": "5775904d",
   "metadata": {},
   "outputs": [
    {
     "name": "stdout",
     "output_type": "stream",
     "text": [
      "Hello Pam!\n"
     ]
    }
   ],
   "source": [
    "txt = \"Hello Sam!\"\n",
    "mytable = str.maketrans(\"S\", \"P\")\n",
    "print(txt.translate(mytable))"
   ]
  },
  {
   "cell_type": "markdown",
   "id": "f8df5023",
   "metadata": {},
   "source": [
    "# upper() Method"
   ]
  },
  {
   "cell_type": "markdown",
   "id": "ee6b209e",
   "metadata": {},
   "source": [
    "The upper() method returns a string where all characters are in upper case.\n",
    "\n",
    " Symbols and Numbers are ignored."
   ]
  },
  {
   "cell_type": "code",
   "execution_count": 104,
   "id": "523fea7a",
   "metadata": {},
   "outputs": [
    {
     "name": "stdout",
     "output_type": "stream",
     "text": [
      "HELLO MY FRIENDS\n"
     ]
    }
   ],
   "source": [
    "txt = \"Hello my friends\"\n",
    "x = txt.upper()\n",
    "print(x)"
   ]
  },
  {
   "cell_type": "markdown",
   "id": "3d074be6",
   "metadata": {},
   "source": [
    "# zfill() Method"
   ]
  },
  {
   "cell_type": "markdown",
   "id": "1fb1b756",
   "metadata": {},
   "source": [
    "The zfill() method adds zeros (0) at the beginning of the string, until it reaches the specified length."
   ]
  },
  {
   "cell_type": "code",
   "execution_count": 106,
   "id": "a8a6c3c9",
   "metadata": {},
   "outputs": [
    {
     "name": "stdout",
     "output_type": "stream",
     "text": [
      "0000000050\n"
     ]
    }
   ],
   "source": [
    "txt = \"50\"\n",
    "x = txt.zfill(10)\n",
    "print(x)"
   ]
  },
  {
   "cell_type": "code",
   "execution_count": 108,
   "id": "9b05f20d",
   "metadata": {},
   "outputs": [
    {
     "name": "stdout",
     "output_type": "stream",
     "text": [
      "00000hello\n",
      "welcome to the jungle\n",
      "000010.000\n"
     ]
    }
   ],
   "source": [
    "a = \"hello\"\n",
    "b = \"welcome to the jungle\"\n",
    "c = \"10.000\"\n",
    "\n",
    "print(a.zfill(10))\n",
    "print(b.zfill(10))\n",
    "print(c.zfill(10))"
   ]
  },
  {
   "cell_type": "code",
   "execution_count": null,
   "id": "ae28dbc1",
   "metadata": {},
   "outputs": [],
   "source": []
  }
 ],
 "metadata": {
  "kernelspec": {
   "display_name": "Python 3 (ipykernel)",
   "language": "python",
   "name": "python3"
  },
  "language_info": {
   "codemirror_mode": {
    "name": "ipython",
    "version": 3
   },
   "file_extension": ".py",
   "mimetype": "text/x-python",
   "name": "python",
   "nbconvert_exporter": "python",
   "pygments_lexer": "ipython3",
   "version": "3.10.9"
  }
 },
 "nbformat": 4,
 "nbformat_minor": 5
}
